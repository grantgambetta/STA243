{
 "cells": [
  {
   "cell_type": "code",
   "execution_count": 1,
   "metadata": {},
   "outputs": [],
   "source": [
    "import numpy as np\n",
    "import pandas as pd\n",
    "import scipy\n",
    "from sklearn.linear_model import LinearRegression\n",
    "from sklearn.metrics import r2_score, mean_squared_error\n",
    "from sklearn.preprocessing import StandardScaler"
   ]
  },
  {
   "cell_type": "markdown",
   "metadata": {},
   "source": [
    "### a)"
   ]
  },
  {
   "cell_type": "code",
   "execution_count": 2,
   "metadata": {},
   "outputs": [],
   "source": [
    "train = pd.read_csv('train.data.csv', index_col=0)\n",
    "test = pd.read_csv('test.data.csv', index_col=0)"
   ]
  },
  {
   "cell_type": "code",
   "execution_count": 3,
   "metadata": {},
   "outputs": [],
   "source": [
    "# select relevant columns for train and test data\n",
    "X_train = train[['bedrooms', 'bathrooms', 'sqft_living', 'sqft_lot']]\n",
    "y_train = train['price']\n",
    "X_test = test[['bedrooms', 'bathrooms', 'sqft_living', 'sqft_lot']]\n",
    "y_test = test['price']"
   ]
  },
  {
   "cell_type": "code",
   "execution_count": 4,
   "metadata": {},
   "outputs": [
    {
     "name": "stdout",
     "output_type": "stream",
     "text": [
      "The R squared on the training data is: 0.5101138530794578\n",
      "The R squared on the testing data is: 0.5049944614037092\n"
     ]
    }
   ],
   "source": [
    "lr = LinearRegression(fit_intercept=True).fit(X_train, y_train)\n",
    "\n",
    "# R squared on training data\n",
    "print('The R squared on the training data is:', lr.score(X_train, y_train))\n",
    "\n",
    "# R squared on testing data\n",
    "y_pred = lr.predict(X_test)\n",
    "r2_test = r2_score(y_test, y_pred)\n",
    "print('The R squared on the testing data is:', r2_test)"
   ]
  },
  {
   "cell_type": "markdown",
   "metadata": {},
   "source": [
    "### b)"
   ]
  },
  {
   "cell_type": "code",
   "execution_count": 5,
   "metadata": {},
   "outputs": [
    {
     "data": {
      "text/html": [
       "<div>\n",
       "<style scoped>\n",
       "    .dataframe tbody tr th:only-of-type {\n",
       "        vertical-align: middle;\n",
       "    }\n",
       "\n",
       "    .dataframe tbody tr th {\n",
       "        vertical-align: top;\n",
       "    }\n",
       "\n",
       "    .dataframe thead th {\n",
       "        text-align: right;\n",
       "    }\n",
       "</style>\n",
       "<table border=\"1\" class=\"dataframe\">\n",
       "  <thead>\n",
       "    <tr style=\"text-align: right;\">\n",
       "      <th></th>\n",
       "      <th>bedrooms</th>\n",
       "      <th>bathrooms</th>\n",
       "      <th>sqft_living</th>\n",
       "      <th>sqft_lot</th>\n",
       "      <th>floors</th>\n",
       "      <th>zipcode</th>\n",
       "      <th>condition</th>\n",
       "      <th>grade</th>\n",
       "      <th>waterfront</th>\n",
       "      <th>view</th>\n",
       "      <th>sqft_above</th>\n",
       "      <th>sqft_basement</th>\n",
       "      <th>yr_built</th>\n",
       "      <th>yr_renovated</th>\n",
       "      <th>lat</th>\n",
       "      <th>long</th>\n",
       "      <th>sqft_living15</th>\n",
       "      <th>sqft_lot15</th>\n",
       "    </tr>\n",
       "  </thead>\n",
       "  <tbody>\n",
       "    <tr>\n",
       "      <th>1</th>\n",
       "      <td>8</td>\n",
       "      <td>25</td>\n",
       "      <td>50000</td>\n",
       "      <td>225000</td>\n",
       "      <td>4</td>\n",
       "      <td>98039</td>\n",
       "      <td>10</td>\n",
       "      <td>10</td>\n",
       "      <td>1</td>\n",
       "      <td>4</td>\n",
       "      <td>37500</td>\n",
       "      <td>12500</td>\n",
       "      <td>1994</td>\n",
       "      <td>2010</td>\n",
       "      <td>47.627606</td>\n",
       "      <td>-122.242054</td>\n",
       "      <td>5000</td>\n",
       "      <td>40000</td>\n",
       "    </tr>\n",
       "  </tbody>\n",
       "</table>\n",
       "</div>"
      ],
      "text/plain": [
       "   bedrooms  bathrooms  sqft_living  sqft_lot  floors  zipcode  condition  \\\n",
       "1         8         25        50000    225000       4    98039         10   \n",
       "\n",
       "   grade  waterfront  view  sqft_above  sqft_basement  yr_built  yr_renovated  \\\n",
       "1     10           1     4       37500          12500      1994          2010   \n",
       "\n",
       "         lat        long  sqft_living15  sqft_lot15  \n",
       "1  47.627606 -122.242054           5000       40000  "
      ]
     },
     "execution_count": 5,
     "metadata": {},
     "output_type": "execute_result"
    }
   ],
   "source": [
    "# read in fancy hosue data\n",
    "fancyhouse = pd.read_csv('fancyhouse.csv', index_col=0)\n",
    "fancyhouse"
   ]
  },
  {
   "cell_type": "code",
   "execution_count": 6,
   "metadata": {},
   "outputs": [
    {
     "name": "stdout",
     "output_type": "stream",
     "text": [
      "The predicted price of Bill Gates's house is: 15436769.538224256\n"
     ]
    }
   ],
   "source": [
    "# predict the price of fancy house\n",
    "prediction = lr.predict(fancyhouse[['bedrooms', 'bathrooms', 'sqft_living', 'sqft_lot']])\n",
    "print(\"The predicted price of Bill Gates's house is:\", float(prediction))"
   ]
  },
  {
   "cell_type": "markdown",
   "metadata": {},
   "source": [
    "### c)"
   ]
  },
  {
   "cell_type": "code",
   "execution_count": 7,
   "metadata": {},
   "outputs": [],
   "source": [
    "# add interaction to train and test\n",
    "train['bed_bath'] = train['bedrooms'] * train['bathrooms']\n",
    "test['bed_bath'] = test['bedrooms'] * test['bathrooms']\n",
    "\n",
    "# create new training and test data with the interaction\n",
    "X_train2 = train[['bedrooms', 'bathrooms', 'sqft_living', 'sqft_lot', 'bed_bath']]\n",
    "X_test2 = test[['bedrooms', 'bathrooms', 'sqft_living', 'sqft_lot', 'bed_bath']]"
   ]
  },
  {
   "cell_type": "code",
   "execution_count": 8,
   "metadata": {},
   "outputs": [
    {
     "name": "stdout",
     "output_type": "stream",
     "text": [
      "The R squared on the training data is: 0.5173532927738305\n",
      "The R squared on the testing data is: 0.5105355458590675\n"
     ]
    }
   ],
   "source": [
    "lr = LinearRegression(fit_intercept=True).fit(X_train2, y_train)\n",
    "\n",
    "# R squared on training data\n",
    "print('The R squared on the training data is:', lr.score(X_train2, y_train))\n",
    "\n",
    "# R squared on testing data\n",
    "y_pred = lr.predict(X_test2)\n",
    "r2_test = r2_score(y_test, y_pred)\n",
    "print('The R squared on the testing data is:', r2_test)"
   ]
  },
  {
   "cell_type": "markdown",
   "metadata": {},
   "source": [
    "### d)"
   ]
  },
  {
   "cell_type": "code",
   "execution_count": 9,
   "metadata": {},
   "outputs": [],
   "source": [
    "def LinearRegressionGD(X, y, step_size=0.01, max_iter=10000, tau=0.01):\n",
    "        '''\n",
    "        INPUTS\n",
    "        X: predictors\n",
    "        y: response\n",
    "        step_size: learning parameter\n",
    "        max_iter: max number of iterations\n",
    "        tau: threshold to terminate the algo based on norm of gradient\n",
    "        \n",
    "        OUTPUT\n",
    "        beta: vector of regression coefficients\n",
    "        '''\n",
    "        n = X.shape[0]\n",
    "        p = X.shape[1]\n",
    "        \n",
    "        # initial guess\n",
    "        beta = np.zeros(p)\n",
    "        \n",
    "        # to count iterations\n",
    "        iter_counter = 0\n",
    "\n",
    "        # perform gradient descent for n iterations\n",
    "        while True:\n",
    "            \n",
    "            # compute gradient\n",
    "            grad = X.T @ (X @ beta - y)\n",
    "            \n",
    "            grad_norm = np.linalg.norm(grad)\n",
    "            \n",
    "            # update beta\n",
    "            beta = beta - step_size * grad\n",
    "            \n",
    "            iter_counter += 1\n",
    "            \n",
    "            # if norm of gradient falls below threshold or max iterations is reached then end\n",
    "            if grad_norm < tau or iter_counter >= max_iter: \n",
    "                break\n",
    "            \n",
    "        return beta"
   ]
  },
  {
   "cell_type": "code",
   "execution_count": 10,
   "metadata": {},
   "outputs": [],
   "source": [
    "# scale the data for faster convergence\n",
    "scaler = StandardScaler()\n",
    "X_train = scaler.fit_transform(X_train)\n",
    "X_test = scaler.fit_transform(X_test)"
   ]
  },
  {
   "cell_type": "code",
   "execution_count": 11,
   "metadata": {},
   "outputs": [],
   "source": [
    "# R squared\n",
    "def R2(y_true, y_pred):\n",
    "    r = scipy.stats.linregress(y_true, y_pred).rvalue\n",
    "    return r**2"
   ]
  },
  {
   "cell_type": "markdown",
   "metadata": {},
   "source": [
    "#### repeat part (a)"
   ]
  },
  {
   "cell_type": "code",
   "execution_count": 12,
   "metadata": {},
   "outputs": [
    {
     "data": {
      "text/plain": [
       "array([-55655.71729065,   2842.59687337, 290948.51916708, -16587.41536863])"
      ]
     },
     "execution_count": 12,
     "metadata": {},
     "output_type": "execute_result"
    }
   ],
   "source": [
    "beta_gd = LinearRegressionGD(X_train, y_train, step_size=0.00005, max_iter=10000, tau=0.01)\n",
    "beta_gd"
   ]
  },
  {
   "cell_type": "code",
   "execution_count": 13,
   "metadata": {},
   "outputs": [
    {
     "name": "stdout",
     "output_type": "stream",
     "text": [
      "The R squared on the training data using GD is: 0.5101138530794578\n",
      "The R squared on the testing data using GD is: 0.5052642488895052\n"
     ]
    }
   ],
   "source": [
    "# train and test predictions\n",
    "y_pred_train = X_train @ beta_gd\n",
    "y_pred_test = X_test @ beta_gd\n",
    "\n",
    "print('The R squared on the training data using GD is:', R2(y_train, y_pred_train))\n",
    "print('The R squared on the testing data using GD is:',  R2(y_test, y_pred_test))"
   ]
  },
  {
   "cell_type": "markdown",
   "metadata": {},
   "source": [
    "#### repeat part (b)"
   ]
  },
  {
   "cell_type": "code",
   "execution_count": 14,
   "metadata": {},
   "outputs": [
    {
     "name": "stdout",
     "output_type": "stream",
     "text": [
      "The predicted price of Bill Gates's house using GD is: 14920927.696733491\n"
     ]
    }
   ],
   "source": [
    "fh = fancyhouse[['bedrooms', 'bathrooms', 'sqft_living', 'sqft_lot']]\n",
    "\n",
    "# scale fancyhouse data using mean and sd from training data\n",
    "fh_scaled = scaler.transform(fh)\n",
    "prediction_gd = fh_scaled @ beta_gd\n",
    "print(\"The predicted price of Bill Gates's house using GD is:\", float(prediction_gd))"
   ]
  },
  {
   "cell_type": "markdown",
   "metadata": {},
   "source": [
    "#### repeat part (c)"
   ]
  },
  {
   "cell_type": "code",
   "execution_count": 15,
   "metadata": {},
   "outputs": [
    {
     "data": {
      "text/plain": [
       "array([-120802.95365028,  -85709.65010885,  283634.61471033,\n",
       "        -16503.48524082,  143171.1945134 ])"
      ]
     },
     "execution_count": 15,
     "metadata": {},
     "output_type": "execute_result"
    }
   ],
   "source": [
    "# scale the data with the extra feature\n",
    "X_train2 = scaler.fit_transform(X_train2)\n",
    "X_test2 = scaler.fit_transform(X_test2)\n",
    "\n",
    "beta_gd2 = LinearRegressionGD(X_train2, y_train, step_size=0.000009, max_iter=10000, tau=0.01)\n",
    "beta_gd2"
   ]
  },
  {
   "cell_type": "code",
   "execution_count": 16,
   "metadata": {},
   "outputs": [
    {
     "name": "stdout",
     "output_type": "stream",
     "text": [
      "The R squared on the training data using GD with added feature is: 0.5173532927738306\n",
      "The R squared on the testing data using GD with added feature is: 0.5108344665471076\n"
     ]
    }
   ],
   "source": [
    "# train and test predictions\n",
    "y_pred_train2 = X_train2 @ beta_gd2\n",
    "y_pred_test2 = X_test2 @ beta_gd2\n",
    "\n",
    "print('The R squared on the training data using GD with added feature is:', R2(y_train, y_pred_train2))\n",
    "print('The R squared on the testing data using GD with added feature is:',  R2(y_test, y_pred_test2))"
   ]
  },
  {
   "cell_type": "markdown",
   "metadata": {},
   "source": [
    "### e)"
   ]
  },
  {
   "cell_type": "code",
   "execution_count": 17,
   "metadata": {},
   "outputs": [],
   "source": [
    "def LinearRegressionSGD(X, y, step_size=0.0001, n_iters=15000, m=1):\n",
    "        '''\n",
    "        INPUTS\n",
    "        X: predictors\n",
    "        y: response\n",
    "        step_size: learning parameter\n",
    "        n_iters: number of iterations\n",
    "        m: batch size\n",
    "        \n",
    "        OUTPUT\n",
    "        beta: vector of regression coefficients\n",
    "        '''\n",
    "        n = X.shape[0]\n",
    "        p = X.shape[1]\n",
    "        \n",
    "        # initial guess\n",
    "        beta = np.zeros(p)\n",
    "\n",
    "        # perform stochastic gradient descent for n iterations\n",
    "        for i in range(n_iters):\n",
    "            \n",
    "            # randomly select m observations from X and y\n",
    "            index = np.random.choice(n, size=m)\n",
    "            X_new = X[index, :]\n",
    "            y_new = np.array(y)[index]\n",
    "            \n",
    "            # compute gradient\n",
    "            grad = X_new.T @ (X_new @ beta - y_new)\n",
    "            \n",
    "            grad_norm = np.linalg.norm(grad)\n",
    "            \n",
    "            # update beta\n",
    "            beta = beta - (1/m) * step_size * grad\n",
    "            \n",
    "        return beta"
   ]
  },
  {
   "cell_type": "markdown",
   "metadata": {},
   "source": [
    "#### repeat part (a)"
   ]
  },
  {
   "cell_type": "code",
   "execution_count": 18,
   "metadata": {},
   "outputs": [
    {
     "data": {
      "text/plain": [
       "array([-60805.0000969 ,  12123.38312398, 284186.53705644,  -9433.35103072])"
      ]
     },
     "execution_count": 18,
     "metadata": {},
     "output_type": "execute_result"
    }
   ],
   "source": [
    "beta_sgd = LinearRegressionSGD(X_train, y_train, 0.0008, 18000, m=1)\n",
    "beta_sgd"
   ]
  },
  {
   "cell_type": "code",
   "execution_count": 19,
   "metadata": {},
   "outputs": [
    {
     "name": "stdout",
     "output_type": "stream",
     "text": [
      "The R squared on the training data using SGD is: 0.5093902312458867\n",
      "The R squared on the testing data using SGD is: 0.5050856219424475\n"
     ]
    }
   ],
   "source": [
    "y_pred_train = X_train @ beta_sgd\n",
    "y_pred_test = X_test @ beta_sgd\n",
    "\n",
    "print('The R squared on the training data using SGD is:', R2(y_train, y_pred_train))\n",
    "print('The R squared on the testing data using SGD is:',  R2(y_test, y_pred_test))"
   ]
  },
  {
   "cell_type": "markdown",
   "metadata": {},
   "source": [
    "#### repeat part (b)"
   ]
  },
  {
   "cell_type": "code",
   "execution_count": 20,
   "metadata": {},
   "outputs": [
    {
     "name": "stdout",
     "output_type": "stream",
     "text": [
      "The predicted price of Bill Gates's house using SGD is: 14850946.714640113\n"
     ]
    }
   ],
   "source": [
    "prediction_gd = fh_scaled @ beta_sgd\n",
    "print(\"The predicted price of Bill Gates's house using SGD is:\", float(prediction_gd))"
   ]
  },
  {
   "cell_type": "markdown",
   "metadata": {},
   "source": [
    "#### repeat part (c)"
   ]
  },
  {
   "cell_type": "code",
   "execution_count": 21,
   "metadata": {},
   "outputs": [
    {
     "data": {
      "text/plain": [
       "array([-8.32837206e+04, -4.05848896e+04,  2.58308896e+05,  2.55632281e+02,\n",
       "        5.73456465e+04])"
      ]
     },
     "execution_count": 21,
     "metadata": {},
     "output_type": "execute_result"
    }
   ],
   "source": [
    "beta_sgd2 = LinearRegressionSGD(X_train2, y_train, 0.0009, 15000, m=1)\n",
    "beta_sgd2"
   ]
  },
  {
   "cell_type": "code",
   "execution_count": 22,
   "metadata": {},
   "outputs": [
    {
     "name": "stdout",
     "output_type": "stream",
     "text": [
      "The R squared on the training data using SGD with added feature is: 0.5121015492618722\n",
      "The R squared on the testing data using SGD with added feature is: 0.506415576370023\n"
     ]
    }
   ],
   "source": [
    "y_pred_train2 = X_train2 @ beta_sgd2\n",
    "y_pred_test2 = X_test2 @ beta_sgd2\n",
    "\n",
    "print('The R squared on the training data using SGD with added feature is:', R2(y_train, y_pred_train2))\n",
    "print('The R squared on the testing data using SGD with added feature is:',  R2(y_test, y_pred_test2))"
   ]
  },
  {
   "cell_type": "code",
   "execution_count": null,
   "metadata": {},
   "outputs": [],
   "source": []
  }
 ],
 "metadata": {
  "kernelspec": {
   "display_name": "Python 3",
   "language": "python",
   "name": "python3"
  },
  "language_info": {
   "codemirror_mode": {
    "name": "ipython",
    "version": 3
   },
   "file_extension": ".py",
   "mimetype": "text/x-python",
   "name": "python",
   "nbconvert_exporter": "python",
   "pygments_lexer": "ipython3",
   "version": "3.8.3"
  }
 },
 "nbformat": 4,
 "nbformat_minor": 4
}
